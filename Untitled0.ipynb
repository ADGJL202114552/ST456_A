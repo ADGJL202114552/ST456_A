{
  "nbformat": 4,
  "nbformat_minor": 0,
  "metadata": {
    "colab": {
      "name": "Untitled0.ipynb",
      "provenance": [],
      "collapsed_sections": []
    },
    "kernelspec": {
      "name": "python3",
      "display_name": "Python 3"
    },
    "language_info": {
      "name": "python"
    }
  },
  "cells": [
    {
      "cell_type": "code",
      "execution_count": 20,
      "metadata": {
        "colab": {
          "base_uri": "https://localhost:8080/"
        },
        "id": "oPEoGbbBHa8I",
        "outputId": "64aeea4b-85ae-4595-c65b-61555ed0d8f5"
      },
      "outputs": [
        {
          "output_type": "stream",
          "name": "stdout",
          "text": [
            "Tensorflow/Keras: 2.8.0\n"
          ]
        }
      ],
      "source": [
        "# Tensorflow / Keras\n",
        "from tensorflow import keras # for building Neural Networks\n",
        "print('Tensorflow/Keras: %s' % keras.__version__) # print version\n",
        "from keras.models import Sequential # for creating a linear stack of layers for our Neural Network\n",
        "from keras import Input, Model # for instantiating a keras tensor\n",
        "from keras.layers import Dense, Concatenate,Lambda # for creating regular densely-connected NN layers.\n",
        "from pandas import read_csv\n",
        "from tensorflow.keras.optimizers import SGD\n",
        "from sklearn.model_selection import train_test_split\n",
        "from sklearn.preprocessing import LabelEncoder\n",
        "from tensorflow.keras.backend import sum\n",
        "import matplotlib.pyplot as plt\n",
        "import numpy as np"
      ]
    },
    {
      "cell_type": "markdown",
      "source": [
        "P1"
      ],
      "metadata": {
        "id": "_JwPCU7Lh8Fg"
      }
    },
    {
      "cell_type": "markdown",
      "source": [
        "Data processing"
      ],
      "metadata": {
        "id": "EZkrkjFoHdNt"
      }
    },
    {
      "cell_type": "code",
      "source": [
        "# load the dataset\n",
        "train_path = '/content/train-1.csv'\n",
        "train = read_csv(train_path, header=None)\n",
        "# split the dataset into input features (X) and class labels/targets (y)\n",
        "X_train, y_train = train.values[:, :-1], train.values[:, -1]\n",
        "# ensure all data are floating point values\n",
        "X_train = X_train.astype('float32')\n",
        "y_train = y_train.astype('float32')\n",
        "print(X_train.shape, y_train.shape)\n",
        "\n",
        "test_path = '/content/test-1.csv'\n",
        "test = read_csv(test_path, header=None)\n",
        "# split the dataset into input features (X) and class labels/targets (y)\n",
        "X_test, y_test = test.values[:, :-1], test.values[:, -1]\n",
        "# ensure all data are floating point values\n",
        "X_test = X_test.astype('float32')\n",
        "y_test = y_test.astype('float32')\n",
        "print(X_test.shape, y_test.shape)\n"
      ],
      "metadata": {
        "colab": {
          "base_uri": "https://localhost:8080/"
        },
        "id": "alru6WOLOaKf",
        "outputId": "e94e94c8-e5c7-450d-de4b-71126fce703b"
      },
      "execution_count": 3,
      "outputs": [
        {
          "output_type": "stream",
          "name": "stdout",
          "text": [
            "(100000, 10) (100000,)\n",
            "(10000, 10) (10000,)\n"
          ]
        }
      ]
    },
    {
      "cell_type": "markdown",
      "source": [
        "P1.1 Neural network"
      ],
      "metadata": {
        "id": "Jnwr_krMWGXN"
      }
    },
    {
      "cell_type": "code",
      "source": [
        "n_features = X_train.shape[1]\n",
        "\n",
        "lat_dim = 8\n",
        "\n",
        "## Model phi\n",
        "## A feedforward neural network with one hidden layer with 100 neurons and ReLU activation function, and the output layer with lat_dim output units.\n",
        "phi_model = Sequential()\n",
        "# Input and hidden layer\n",
        "phi_model.add(Dense(100, activation='relu', kernel_initializer='he_normal', input_shape=(n_features,)))\n",
        "# Output layer\n",
        "phi_model.add(Dense(lat_dim, activation='relu'))\n",
        "opt = SGD(learning_rate=0.0001)\n",
        "phi_model.compile(optimizer=opt, loss='mse', metrics='accuracy')\n",
        "\n",
        "## Sum up the phi\n",
        "phi_model2 = Sequential()\n",
        "phi_model2.add(phi_model)\n",
        "phi_model2.add(Lambda(lambda x: sum(x, axis=1,keepdims=True)))\n",
        "phi_model2.layers[0].trainable = False\n",
        "phi_model2.compile(optimizer=opt, loss='mse', metrics='accuracy')\n",
        "\n",
        "\n",
        "\n",
        "## Model rho\n",
        "## A feedforward neural network with one hidden layer with 100 neurons and ReLU activation function, and the input layer with 1 input unit.\n",
        "rho_model = Sequential()\n",
        "# Input layer where input unit is phi_model2 results\n",
        "rho_model.add(phi_model2)\n",
        "# Hidden layer\n",
        "rho_model.add(Dense(100, activation='relu', kernel_initializer='he_normal', input_shape=(1,)))\n",
        "# Output layer\n",
        "rho_model.add(Dense(1, activation='relu'))\n",
        "rho_model.compile(optimizer=opt, loss='mse', metrics='accuracy')\n",
        "\n",
        "phi_model.summary()\n",
        "phi_model2.summary()\n",
        "rho_model.summary()"
      ],
      "metadata": {
        "colab": {
          "base_uri": "https://localhost:8080/"
        },
        "id": "8-uAl7PjHcH9",
        "outputId": "948a0313-db8b-47ef-f2e9-aaf166d90496"
      },
      "execution_count": 4,
      "outputs": [
        {
          "output_type": "stream",
          "name": "stdout",
          "text": [
            "Model: \"sequential\"\n",
            "_________________________________________________________________\n",
            " Layer (type)                Output Shape              Param #   \n",
            "=================================================================\n",
            " dense (Dense)               (None, 100)               1100      \n",
            "                                                                 \n",
            " dense_1 (Dense)             (None, 8)                 808       \n",
            "                                                                 \n",
            "=================================================================\n",
            "Total params: 1,908\n",
            "Trainable params: 0\n",
            "Non-trainable params: 1,908\n",
            "_________________________________________________________________\n",
            "Model: \"sequential_1\"\n",
            "_________________________________________________________________\n",
            " Layer (type)                Output Shape              Param #   \n",
            "=================================================================\n",
            " sequential (Sequential)     (None, 8)                 1908      \n",
            "                                                                 \n",
            " lambda (Lambda)             (None, 1)                 0         \n",
            "                                                                 \n",
            "=================================================================\n",
            "Total params: 1,908\n",
            "Trainable params: 0\n",
            "Non-trainable params: 1,908\n",
            "_________________________________________________________________\n",
            "Model: \"sequential_2\"\n",
            "_________________________________________________________________\n",
            " Layer (type)                Output Shape              Param #   \n",
            "=================================================================\n",
            " sequential_1 (Sequential)   (None, 1)                 1908      \n",
            "                                                                 \n",
            " dense_2 (Dense)             (None, 100)               200       \n",
            "                                                                 \n",
            " dense_3 (Dense)             (None, 1)                 101       \n",
            "                                                                 \n",
            "=================================================================\n",
            "Total params: 2,209\n",
            "Trainable params: 301\n",
            "Non-trainable params: 1,908\n",
            "_________________________________________________________________\n"
          ]
        }
      ]
    },
    {
      "cell_type": "markdown",
      "source": [
        "P1.2 Train the neural network "
      ],
      "metadata": {
        "id": "BSCb5Z4sXQ8R"
      }
    },
    {
      "cell_type": "markdown",
      "source": [
        "Validation dataset "
      ],
      "metadata": {
        "id": "j6KzEsS3Vtu-"
      }
    },
    {
      "cell_type": "code",
      "source": [
        "# split the dataset into input features (X) and class labels/targets (y)\n",
        "X, y = train.values[:, :-1], train.values[:, -1]\n",
        "# ensure all data are floating point values\n",
        "X = X.astype('float32')\n",
        "# encode strings to integer\n",
        "y = LabelEncoder().fit_transform(y)\n",
        "# split into training (90%) and validation (10%) samples\n",
        "X_tra, X_val, y_tra, y_val = train_test_split(X, y, test_size=0.10)\n",
        "print(X_tra.shape, X_val.shape, y_tra.shape, y_val.shape)\n"
      ],
      "metadata": {
        "colab": {
          "base_uri": "https://localhost:8080/"
        },
        "id": "Q2FMJ9UtVsnq",
        "outputId": "c64adcb0-42ee-4295-d83a-17db4d65b6f8"
      },
      "execution_count": 5,
      "outputs": [
        {
          "output_type": "stream",
          "name": "stdout",
          "text": [
            "(90000, 10) (10000, 10) (90000,) (10000,)\n"
          ]
        }
      ]
    },
    {
      "cell_type": "markdown",
      "source": [
        "1. lat_dim = 5 "
      ],
      "metadata": {
        "id": "1Xy3OgJeVnNW"
      }
    },
    {
      "cell_type": "code",
      "source": [
        "lat_dim = 5\n",
        "\n",
        "## Model phi\n",
        "## A feedforward neural network with one hidden layer with 100 neurons and ReLU activation function, and the output layer with lat_dim output units.\n",
        "phi_model = Sequential()\n",
        "# Input and hidden layer\n",
        "phi_model.add(Dense(100, activation='relu', kernel_initializer='he_normal', input_shape=(n_features,)))\n",
        "# Output layer\n",
        "phi_model.add(Dense(lat_dim, activation='relu'))\n",
        "opt = SGD(learning_rate=0.0001)\n",
        "phi_model.compile(optimizer=opt, loss='mse', metrics='accuracy')\n",
        "\n",
        "phi_model2 = Sequential()\n",
        "phi_model2.add(phi_model)\n",
        "phi_model2.add(Lambda(lambda x: sum(x, axis=1,keepdims=True)))\n",
        "phi_model2.layers[0].trainable = False\n",
        "phi_model2.compile(optimizer=opt, loss='mse', metrics='accuracy')\n",
        "\n",
        "\n",
        "\n",
        "## Model rho\n",
        "## A feedforward neural network with one hidden layer with 100 neurons and ReLU activation function, and the input layer with 1 input unit.\n",
        "rho_model = Sequential()\n",
        "# Input layer where input units equal to 1 and hidden layer\n",
        "rho_model.add(phi_model2)\n",
        "rho_model.add(Dense(100, activation='relu', kernel_initializer='he_normal', input_shape=(1,)))\n",
        "# Output layer\n",
        "rho_model.add(Dense(1, activation='relu'))\n",
        "rho_model.compile(optimizer=opt, loss='mse', metrics='accuracy')\n",
        "\n",
        "\n",
        "# fit the model\n",
        "rho_model.fit(X_test, y_test, epochs=10, batch_size=128,validation_data=(X_val, y_val))\n"
      ],
      "metadata": {
        "colab": {
          "base_uri": "https://localhost:8080/"
        },
        "id": "RbYV041fXV25",
        "outputId": "0bb7d0d1-11fe-4752-fc45-a0ef9da8e876"
      },
      "execution_count": 46,
      "outputs": [
        {
          "output_type": "stream",
          "name": "stdout",
          "text": [
            "Epoch 1/10\n",
            "79/79 [==============================] - 1s 10ms/step - loss: 0.1371 - accuracy: 0.0000e+00 - val_loss: 3305953280.0000 - val_accuracy: 0.0000e+00\n",
            "Epoch 2/10\n",
            "79/79 [==============================] - 0s 4ms/step - loss: 0.1064 - accuracy: 0.0000e+00 - val_loss: 3305947392.0000 - val_accuracy: 0.0000e+00\n",
            "Epoch 3/10\n",
            "79/79 [==============================] - 0s 4ms/step - loss: 0.0949 - accuracy: 0.0000e+00 - val_loss: 3305945088.0000 - val_accuracy: 0.0000e+00\n",
            "Epoch 4/10\n",
            "79/79 [==============================] - 0s 5ms/step - loss: 0.0901 - accuracy: 0.0000e+00 - val_loss: 3305943040.0000 - val_accuracy: 0.0000e+00\n",
            "Epoch 5/10\n",
            "79/79 [==============================] - 0s 4ms/step - loss: 0.0876 - accuracy: 0.0000e+00 - val_loss: 3305941760.0000 - val_accuracy: 0.0000e+00\n",
            "Epoch 6/10\n",
            "79/79 [==============================] - 0s 4ms/step - loss: 0.0860 - accuracy: 0.0000e+00 - val_loss: 3305940480.0000 - val_accuracy: 0.0000e+00\n",
            "Epoch 7/10\n",
            "79/79 [==============================] - 0s 5ms/step - loss: 0.0847 - accuracy: 0.0000e+00 - val_loss: 3305939968.0000 - val_accuracy: 0.0000e+00\n",
            "Epoch 8/10\n",
            "79/79 [==============================] - 0s 4ms/step - loss: 0.0835 - accuracy: 0.0000e+00 - val_loss: 3305939200.0000 - val_accuracy: 0.0000e+00\n",
            "Epoch 9/10\n",
            "79/79 [==============================] - 0s 4ms/step - loss: 0.0823 - accuracy: 0.0000e+00 - val_loss: 3305939200.0000 - val_accuracy: 0.0000e+00\n",
            "Epoch 10/10\n",
            "79/79 [==============================] - 0s 4ms/step - loss: 0.0812 - accuracy: 0.0000e+00 - val_loss: 3305939200.0000 - val_accuracy: 0.0000e+00\n"
          ]
        },
        {
          "output_type": "execute_result",
          "data": {
            "text/plain": [
              "<keras.callbacks.History at 0x7fc69d66d590>"
            ]
          },
          "metadata": {},
          "execution_count": 46
        }
      ]
    },
    {
      "cell_type": "code",
      "source": [
        "# evaluate the model\n",
        "mse, mae = rho_model.evaluate(X_test, y_test, verbose=0)\n",
        "print('MSE: %.3f, MAE: %.3f' % (mse,  mae))"
      ],
      "metadata": {
        "colab": {
          "base_uri": "https://localhost:8080/"
        },
        "id": "rRnBOs0OBjON",
        "outputId": "3ed324d0-da88-4089-9aa1-1d7691c52cb8"
      },
      "execution_count": 47,
      "outputs": [
        {
          "output_type": "stream",
          "name": "stdout",
          "text": [
            "MSE: 0.081, MAE: 0.000\n"
          ]
        }
      ]
    },
    {
      "cell_type": "markdown",
      "source": [
        "2. lat_dim =100"
      ],
      "metadata": {
        "id": "8Ive532dJMg7"
      }
    },
    {
      "cell_type": "code",
      "source": [
        "lat_dim = 100\n",
        "## Model phi\n",
        "## A feedforward neural network with one hidden layer with 100 neurons and ReLU activation function, and the output layer with lat_dim output units.\n",
        "phi_model = Sequential()\n",
        "# Input and hidden layer\n",
        "phi_model.add(Dense(100, activation='relu', kernel_initializer='he_normal', input_shape=(n_features,)))\n",
        "# Output layer\n",
        "phi_model.add(Dense(lat_dim, activation='relu'))\n",
        "opt = SGD(learning_rate=0.0001)\n",
        "phi_model.compile(optimizer=opt, loss='mse', metrics='accuracy')\n",
        "\n",
        "phi_model2 = Sequential()\n",
        "phi_model2.add(phi_model)\n",
        "phi_model2.add(Lambda(lambda x: sum(x, axis=1,keepdims=True)))\n",
        "phi_model2.layers[0].trainable = False\n",
        "phi_model2.compile(optimizer=opt, loss='mse', metrics='accuracy')\n",
        "\n",
        "## Model rho\n",
        "## A feedforward neural network with one hidden layer with 100 neurons and ReLU activation function, and the input layer with 1 input unit.\n",
        "rho_model = Sequential()\n",
        "# Input layer where input units equal to 1 and hidden layer\n",
        "rho_model.add(phi_model2)\n",
        "rho_model.add(Dense(100, activation='relu', kernel_initializer='he_normal', input_shape=(1,)))\n",
        "# Output layer\n",
        "rho_model.add(Dense(1, activation='relu'))\n",
        "rho_model.compile(optimizer=opt, loss='mse', metrics='accuracy')\n",
        "\n",
        "rho_model.fit(X_test, y_test, epochs=10, batch_size=128,validation_data=(X_val, y_val))\n",
        "\n"
      ],
      "metadata": {
        "colab": {
          "base_uri": "https://localhost:8080/"
        },
        "id": "kLhBuMQfYQwo",
        "outputId": "c50aab2b-6c52-4fe8-a2a7-7d04351e497c"
      },
      "execution_count": 48,
      "outputs": [
        {
          "output_type": "stream",
          "name": "stdout",
          "text": [
            "Epoch 1/10\n",
            "79/79 [==============================] - 1s 6ms/step - loss: 1.1459 - accuracy: 0.0000e+00 - val_loss: 3305976064.0000 - val_accuracy: 0.0000e+00\n",
            "Epoch 2/10\n",
            "79/79 [==============================] - 0s 4ms/step - loss: 0.2701 - accuracy: 0.0000e+00 - val_loss: 3305976064.0000 - val_accuracy: 0.0000e+00\n",
            "Epoch 3/10\n",
            "79/79 [==============================] - 0s 4ms/step - loss: 0.2701 - accuracy: 0.0000e+00 - val_loss: 3305976064.0000 - val_accuracy: 0.0000e+00\n",
            "Epoch 4/10\n",
            "79/79 [==============================] - 0s 4ms/step - loss: 0.2701 - accuracy: 0.0000e+00 - val_loss: 3305976064.0000 - val_accuracy: 0.0000e+00\n",
            "Epoch 5/10\n",
            "79/79 [==============================] - 0s 4ms/step - loss: 0.2701 - accuracy: 0.0000e+00 - val_loss: 3305976064.0000 - val_accuracy: 0.0000e+00\n",
            "Epoch 6/10\n",
            "79/79 [==============================] - 0s 4ms/step - loss: 0.2701 - accuracy: 0.0000e+00 - val_loss: 3305976064.0000 - val_accuracy: 0.0000e+00\n",
            "Epoch 7/10\n",
            "79/79 [==============================] - 0s 4ms/step - loss: 0.2701 - accuracy: 0.0000e+00 - val_loss: 3305976064.0000 - val_accuracy: 0.0000e+00\n",
            "Epoch 8/10\n",
            "79/79 [==============================] - 0s 4ms/step - loss: 0.2701 - accuracy: 0.0000e+00 - val_loss: 3305976064.0000 - val_accuracy: 0.0000e+00\n",
            "Epoch 9/10\n",
            "79/79 [==============================] - 0s 4ms/step - loss: 0.2701 - accuracy: 0.0000e+00 - val_loss: 3305976064.0000 - val_accuracy: 0.0000e+00\n",
            "Epoch 10/10\n",
            "79/79 [==============================] - 0s 4ms/step - loss: 0.2701 - accuracy: 0.0000e+00 - val_loss: 3305976064.0000 - val_accuracy: 0.0000e+00\n"
          ]
        },
        {
          "output_type": "execute_result",
          "data": {
            "text/plain": [
              "<keras.callbacks.History at 0x7fc69d7f9450>"
            ]
          },
          "metadata": {},
          "execution_count": 48
        }
      ]
    },
    {
      "cell_type": "code",
      "source": [
        "mse, mae = rho_model.evaluate(X_test, y_test, verbose=0)\n",
        "print('MSE: %.3f, MAE: %.3f' % (mse,  mae))"
      ],
      "metadata": {
        "colab": {
          "base_uri": "https://localhost:8080/"
        },
        "id": "k_JQ3MgQc1mI",
        "outputId": "6facb3ec-e906-458f-cb7b-284ad0f3ce74"
      },
      "execution_count": 49,
      "outputs": [
        {
          "output_type": "stream",
          "name": "stdout",
          "text": [
            "MSE: 0.270, MAE: 0.000\n"
          ]
        }
      ]
    },
    {
      "cell_type": "markdown",
      "source": [
        "When we use larger lat_dim, the MSE is lower. When lat_dim is 100, the MSE is lower than it when lat_lim is 5."
      ],
      "metadata": {
        "id": "kEIqF8uUJG2Q"
      }
    },
    {
      "cell_type": "markdown",
      "source": [
        "P1.3 "
      ],
      "metadata": {
        "id": "M8u5YufCc67n"
      }
    },
    {
      "cell_type": "markdown",
      "source": [
        "learning rates = 0.01"
      ],
      "metadata": {
        "id": "7xuYaVlSdBq9"
      }
    },
    {
      "cell_type": "code",
      "source": [
        "lat_dim = 100\n",
        "## Model phi\n",
        "## A feedforward neural network with one hidden layer with 100 neurons and ReLU activation function, and the output layer with lat_dim output units.\n",
        "phi_model = Sequential()\n",
        "# Input and hidden layer\n",
        "phi_model.add(Dense(100, activation='relu', kernel_initializer='he_normal', input_shape=(n_features,)))\n",
        "# Output layer\n",
        "phi_model.add(Dense(lat_dim, activation='relu'))\n",
        "opt = SGD(learning_rate=0.01)\n",
        "phi_model.compile(optimizer=opt, loss='mse', metrics='accuracy')\n",
        "\n",
        "phi_model2 = Sequential()\n",
        "phi_model2.add(phi_model)\n",
        "phi_model2.add(Lambda(lambda x: sum(x, axis=1,keepdims=True)))\n",
        "phi_model2.layers[0].trainable = False\n",
        "phi_model2.compile(optimizer=opt, loss='mse', metrics='accuracy')\n",
        "\n",
        "## Model rho\n",
        "## A feedforward neural network with one hidden layer with 100 neurons and ReLU activation function, and the input layer with 1 input unit.\n",
        "rho_model = Sequential()\n",
        "# Input layer where input units equal to 1 and hidden layer\n",
        "rho_model.add(phi_model2)\n",
        "rho_model.add(Dense(100, activation='relu', kernel_initializer='he_normal', input_shape=(1,)))\n",
        "# Output layer\n",
        "rho_model.add(Dense(1, activation='relu'))\n",
        "rho_model.compile(optimizer=opt, loss='mse', metrics='accuracy')\n",
        "\n",
        "rho_model.fit(X_test, y_test, epochs=10, batch_size=128,validation_data=(X_val, y_val))"
      ],
      "metadata": {
        "colab": {
          "base_uri": "https://localhost:8080/"
        },
        "id": "tSDu-gjEdL_u",
        "outputId": "4a6ce8ec-2fd1-4a5f-b03a-acb5d26cb61e"
      },
      "execution_count": 50,
      "outputs": [
        {
          "output_type": "stream",
          "name": "stdout",
          "text": [
            "Epoch 1/10\n",
            "79/79 [==============================] - 1s 6ms/step - loss: 0.2701 - accuracy: 0.0000e+00 - val_loss: 3305976064.0000 - val_accuracy: 0.0000e+00\n",
            "Epoch 2/10\n",
            "79/79 [==============================] - 0s 4ms/step - loss: 0.2701 - accuracy: 0.0000e+00 - val_loss: 3305976064.0000 - val_accuracy: 0.0000e+00\n",
            "Epoch 3/10\n",
            "79/79 [==============================] - 0s 4ms/step - loss: 0.2701 - accuracy: 0.0000e+00 - val_loss: 3305976064.0000 - val_accuracy: 0.0000e+00\n",
            "Epoch 4/10\n",
            "79/79 [==============================] - 0s 4ms/step - loss: 0.2701 - accuracy: 0.0000e+00 - val_loss: 3305976064.0000 - val_accuracy: 0.0000e+00\n",
            "Epoch 5/10\n",
            "79/79 [==============================] - 0s 4ms/step - loss: 0.2701 - accuracy: 0.0000e+00 - val_loss: 3305976064.0000 - val_accuracy: 0.0000e+00\n",
            "Epoch 6/10\n",
            "79/79 [==============================] - 0s 4ms/step - loss: 0.2701 - accuracy: 0.0000e+00 - val_loss: 3305976064.0000 - val_accuracy: 0.0000e+00\n",
            "Epoch 7/10\n",
            "79/79 [==============================] - 0s 4ms/step - loss: 0.2701 - accuracy: 0.0000e+00 - val_loss: 3305976064.0000 - val_accuracy: 0.0000e+00\n",
            "Epoch 8/10\n",
            "79/79 [==============================] - 0s 4ms/step - loss: 0.2701 - accuracy: 0.0000e+00 - val_loss: 3305976064.0000 - val_accuracy: 0.0000e+00\n",
            "Epoch 9/10\n",
            "79/79 [==============================] - 0s 4ms/step - loss: 0.2701 - accuracy: 0.0000e+00 - val_loss: 3305976064.0000 - val_accuracy: 0.0000e+00\n",
            "Epoch 10/10\n",
            "79/79 [==============================] - 0s 4ms/step - loss: 0.2701 - accuracy: 0.0000e+00 - val_loss: 3305976064.0000 - val_accuracy: 0.0000e+00\n"
          ]
        },
        {
          "output_type": "execute_result",
          "data": {
            "text/plain": [
              "<keras.callbacks.History at 0x7fc690751ed0>"
            ]
          },
          "metadata": {},
          "execution_count": 50
        }
      ]
    },
    {
      "cell_type": "markdown",
      "source": [
        "learning rates = 0.1"
      ],
      "metadata": {
        "id": "NbmLwaSldIE0"
      }
    },
    {
      "cell_type": "code",
      "source": [
        "lat_dim = 100\n",
        "## Model phi\n",
        "## A feedforward neural network with one hidden layer with 100 neurons and ReLU activation function, and the output layer with lat_dim output units.\n",
        "phi_model = Sequential()\n",
        "# Input and hidden layer\n",
        "phi_model.add(Dense(100, activation='relu', kernel_initializer='he_normal', input_shape=(n_features,)))\n",
        "# Output layer\n",
        "phi_model.add(Dense(lat_dim, activation='relu'))\n",
        "opt = SGD(learning_rate=0.1)\n",
        "phi_model.compile(optimizer=opt, loss='mse', metrics='accuracy')\n",
        "\n",
        "phi_model2 = Sequential()\n",
        "phi_model2.add(phi_model)\n",
        "phi_model2.add(Lambda(lambda x: sum(x, axis=1,keepdims=True)))\n",
        "phi_model2.layers[0].trainable = False\n",
        "phi_model2.compile(optimizer=opt, loss='mse', metrics='accuracy')\n",
        "\n",
        "## Model rho\n",
        "## A feedforward neural network with one hidden layer with 100 neurons and ReLU activation function, and the input layer with 1 input unit.\n",
        "rho_model = Sequential()\n",
        "# Input layer where input units equal to 1 and hidden layer\n",
        "rho_model.add(phi_model2)\n",
        "rho_model.add(Dense(100, activation='relu', kernel_initializer='he_normal', input_shape=(1,)))\n",
        "# Output layer\n",
        "rho_model.add(Dense(1, activation='relu'))\n",
        "rho_model.compile(optimizer=opt, loss='mse', metrics='accuracy')\n",
        "\n",
        "rho_model.fit(X_test, y_test, epochs=10, batch_size=128,validation_data=(X_val, y_val))"
      ],
      "metadata": {
        "colab": {
          "base_uri": "https://localhost:8080/"
        },
        "outputId": "4653c99a-4b3e-4a2c-fb44-db7491f23e7a",
        "id": "-kqxvm5bdVWW"
      },
      "execution_count": 51,
      "outputs": [
        {
          "output_type": "stream",
          "name": "stdout",
          "text": [
            "Epoch 1/10\n"
          ]
        },
        {
          "output_type": "stream",
          "name": "stderr",
          "text": [
            "Exception ignored in: <function WeakKeyDictionary.__init__.<locals>.remove at 0x7fc6a568a950>\n",
            "Traceback (most recent call last):\n",
            "  File \"/usr/lib/python3.7/weakref.py\", line 358, in remove\n",
            "    def remove(k, selfref=ref(self)):\n",
            "KeyboardInterrupt\n"
          ]
        },
        {
          "output_type": "stream",
          "name": "stdout",
          "text": [
            "79/79 [==============================] - 1s 6ms/step - loss: 9.9871 - accuracy: 0.0000e+00 - val_loss: 3305976064.0000 - val_accuracy: 0.0000e+00\n",
            "Epoch 2/10\n",
            "79/79 [==============================] - 0s 4ms/step - loss: 0.2701 - accuracy: 0.0000e+00 - val_loss: 3305976064.0000 - val_accuracy: 0.0000e+00\n",
            "Epoch 3/10\n",
            "79/79 [==============================] - 0s 4ms/step - loss: 0.2701 - accuracy: 0.0000e+00 - val_loss: 3305976064.0000 - val_accuracy: 0.0000e+00\n",
            "Epoch 4/10\n",
            "79/79 [==============================] - 0s 4ms/step - loss: 0.2701 - accuracy: 0.0000e+00 - val_loss: 3305976064.0000 - val_accuracy: 0.0000e+00\n",
            "Epoch 5/10\n",
            "79/79 [==============================] - 0s 5ms/step - loss: 0.2701 - accuracy: 0.0000e+00 - val_loss: 3305976064.0000 - val_accuracy: 0.0000e+00\n",
            "Epoch 6/10\n",
            "79/79 [==============================] - 0s 4ms/step - loss: 0.2701 - accuracy: 0.0000e+00 - val_loss: 3305976064.0000 - val_accuracy: 0.0000e+00\n",
            "Epoch 7/10\n",
            "79/79 [==============================] - 0s 4ms/step - loss: 0.2701 - accuracy: 0.0000e+00 - val_loss: 3305976064.0000 - val_accuracy: 0.0000e+00\n",
            "Epoch 8/10\n",
            "79/79 [==============================] - 0s 4ms/step - loss: 0.2701 - accuracy: 0.0000e+00 - val_loss: 3305976064.0000 - val_accuracy: 0.0000e+00\n",
            "Epoch 9/10\n",
            "79/79 [==============================] - 0s 4ms/step - loss: 0.2701 - accuracy: 0.0000e+00 - val_loss: 3305976064.0000 - val_accuracy: 0.0000e+00\n",
            "Epoch 10/10\n",
            "79/79 [==============================] - 0s 4ms/step - loss: 0.2701 - accuracy: 0.0000e+00 - val_loss: 3305976064.0000 - val_accuracy: 0.0000e+00\n"
          ]
        },
        {
          "output_type": "execute_result",
          "data": {
            "text/plain": [
              "<keras.callbacks.History at 0x7fc68dfe3110>"
            ]
          },
          "metadata": {},
          "execution_count": 51
        }
      ]
    },
    {
      "cell_type": "markdown",
      "source": [
        "learning rates = 0.5"
      ],
      "metadata": {
        "id": "6AeIsQO8dIPc"
      }
    },
    {
      "cell_type": "code",
      "source": [
        "lat_dim = 100\n",
        "## Model phi\n",
        "## A feedforward neural network with one hidden layer with 100 neurons and ReLU activation function, and the output layer with lat_dim output units.\n",
        "phi_model = Sequential()\n",
        "# Input and hidden layer\n",
        "phi_model.add(Dense(100, activation='relu', kernel_initializer='he_normal', input_shape=(n_features,)))\n",
        "# Output layer\n",
        "phi_model.add(Dense(lat_dim, activation='relu'))\n",
        "opt = SGD(learning_rate=0.5)\n",
        "phi_model.compile(optimizer=opt, loss='mse', metrics='accuracy')\n",
        "\n",
        "phi_model2 = Sequential()\n",
        "phi_model2.add(phi_model)\n",
        "phi_model2.add(Lambda(lambda x: sum(x, axis=1,keepdims=True)))\n",
        "phi_model2.layers[0].trainable = False\n",
        "phi_model2.compile(optimizer=opt, loss='mse', metrics='accuracy')\n",
        "\n",
        "## Model rho\n",
        "## A feedforward neural network with one hidden layer with 100 neurons and ReLU activation function, and the input layer with 1 input unit.\n",
        "rho_model = Sequential()\n",
        "# Input layer where input units equal to 1 and hidden layer\n",
        "rho_model.add(phi_model2)\n",
        "rho_model.add(Dense(100, activation='relu', kernel_initializer='he_normal', input_shape=(1,)))\n",
        "# Output layer\n",
        "rho_model.add(Dense(1, activation='relu'))\n",
        "rho_model.compile(optimizer=opt, loss='mse', metrics='accuracy')\n",
        "\n",
        "rho_model.fit(X_test, y_test, epochs=10, batch_size=128,validation_data=(X_val, y_val))"
      ],
      "metadata": {
        "colab": {
          "base_uri": "https://localhost:8080/"
        },
        "outputId": "c54fbaae-59ac-459e-cb9c-b48b6fa718ff",
        "id": "M0M3VkgddYFM"
      },
      "execution_count": 52,
      "outputs": [
        {
          "output_type": "stream",
          "name": "stdout",
          "text": [
            "Epoch 1/10\n",
            "79/79 [==============================] - 1s 7ms/step - loss: 0.2701 - accuracy: 0.0000e+00 - val_loss: 3305976064.0000 - val_accuracy: 0.0000e+00\n",
            "Epoch 2/10\n",
            "79/79 [==============================] - 0s 4ms/step - loss: 0.2701 - accuracy: 0.0000e+00 - val_loss: 3305976064.0000 - val_accuracy: 0.0000e+00\n",
            "Epoch 3/10\n",
            "79/79 [==============================] - 1s 15ms/step - loss: 0.2701 - accuracy: 0.0000e+00 - val_loss: 3305976064.0000 - val_accuracy: 0.0000e+00\n",
            "Epoch 4/10\n",
            "79/79 [==============================] - 0s 5ms/step - loss: 0.2701 - accuracy: 0.0000e+00 - val_loss: 3305976064.0000 - val_accuracy: 0.0000e+00\n",
            "Epoch 5/10\n",
            "79/79 [==============================] - 1s 13ms/step - loss: 0.2701 - accuracy: 0.0000e+00 - val_loss: 3305976064.0000 - val_accuracy: 0.0000e+00\n",
            "Epoch 6/10\n",
            "79/79 [==============================] - 0s 3ms/step - loss: 0.2701 - accuracy: 0.0000e+00 - val_loss: 3305976064.0000 - val_accuracy: 0.0000e+00\n",
            "Epoch 7/10\n",
            "79/79 [==============================] - 0s 4ms/step - loss: 0.2701 - accuracy: 0.0000e+00 - val_loss: 3305976064.0000 - val_accuracy: 0.0000e+00\n",
            "Epoch 8/10\n",
            "79/79 [==============================] - 0s 4ms/step - loss: 0.2701 - accuracy: 0.0000e+00 - val_loss: 3305976064.0000 - val_accuracy: 0.0000e+00\n",
            "Epoch 9/10\n",
            "79/79 [==============================] - 0s 4ms/step - loss: 0.2701 - accuracy: 0.0000e+00 - val_loss: 3305976064.0000 - val_accuracy: 0.0000e+00\n",
            "Epoch 10/10\n",
            "79/79 [==============================] - 0s 4ms/step - loss: 0.2701 - accuracy: 0.0000e+00 - val_loss: 3305976064.0000 - val_accuracy: 0.0000e+00\n"
          ]
        },
        {
          "output_type": "execute_result",
          "data": {
            "text/plain": [
              "<keras.callbacks.History at 0x7fc69d879cd0>"
            ]
          },
          "metadata": {},
          "execution_count": 52
        }
      ]
    },
    {
      "cell_type": "markdown",
      "source": [
        "The model learns better with higher learning rate. "
      ],
      "metadata": {
        "id": "8P08uI_nJv7B"
      }
    },
    {
      "cell_type": "markdown",
      "source": [
        "P1.4"
      ],
      "metadata": {
        "id": "rdf1dBA0dc1O"
      }
    },
    {
      "cell_type": "code",
      "source": [
        "lat_dim = 100\n",
        "## Model phi\n",
        "## A feedforward neural network with one hidden layer with 100 neurons and ReLU activation function, and the output layer with lat_dim output units.\n",
        "phi_model = Sequential()\n",
        "# Input and hidden layer\n",
        "phi_model.add(Dense(100, activation='relu', kernel_initializer='he_normal', input_shape=(n_features,)))\n",
        "# Output layer\n",
        "phi_model.add(Dense(lat_dim, activation='relu'))\n",
        "opt = SGD(learning_rate=0.01)\n",
        "phi_model.compile(optimizer=opt, loss='mse', metrics='accuracy')\n",
        "\n",
        "phi_model2 = Sequential()\n",
        "phi_model2.add(phi_model)\n",
        "phi_model2.add(Lambda(lambda x: sum(x, axis=1,keepdims=True)))\n",
        "phi_model2.layers[0].trainable = False\n",
        "phi_model2.compile(optimizer=opt, loss='mse', metrics='accuracy')\n",
        "\n",
        "## Model rho\n",
        "## A feedforward neural network with one hidden layer with 100 neurons and ReLU activation function, and the input layer with 1 input unit.\n",
        "rho_model = Sequential()\n",
        "# Input layer where input units equal to 1 and hidden layer\n",
        "rho_model.add(phi_model2)\n",
        "rho_model.add(Dense(100, activation='relu', kernel_initializer='he_normal', input_shape=(1,)))\n",
        "# Output layer\n",
        "rho_model.add(Dense(1, activation='relu'))\n",
        "rho_model.compile(optimizer=opt, loss='mse', metrics='accuracy')\n",
        "\n",
        "rho_model.fit(X_tra, y_tra, epochs=50, batch_size=128,validation_data=(X_val, y_val))"
      ],
      "metadata": {
        "colab": {
          "base_uri": "https://localhost:8080/"
        },
        "outputId": "6b0c159c-b571-45ac-986c-f4effc95a76c",
        "id": "DiJqkNLCe4E-"
      },
      "execution_count": 53,
      "outputs": [
        {
          "output_type": "stream",
          "name": "stdout",
          "text": [
            "Epoch 1/50\n",
            "704/704 [==============================] - 2s 3ms/step - loss: 3336316928.0000 - accuracy: 1.1111e-05 - val_loss: 3305976064.0000 - val_accuracy: 0.0000e+00\n",
            "Epoch 2/50\n",
            "704/704 [==============================] - 2s 2ms/step - loss: 3336318208.0000 - accuracy: 1.1111e-05 - val_loss: 3305976064.0000 - val_accuracy: 0.0000e+00\n",
            "Epoch 3/50\n",
            "704/704 [==============================] - 2s 2ms/step - loss: 3336316928.0000 - accuracy: 1.1111e-05 - val_loss: 3305976064.0000 - val_accuracy: 0.0000e+00\n",
            "Epoch 4/50\n",
            "704/704 [==============================] - 2s 2ms/step - loss: 3336318720.0000 - accuracy: 1.1111e-05 - val_loss: 3305976064.0000 - val_accuracy: 0.0000e+00\n",
            "Epoch 5/50\n",
            "704/704 [==============================] - 2s 2ms/step - loss: 3336317440.0000 - accuracy: 1.1111e-05 - val_loss: 3305976064.0000 - val_accuracy: 0.0000e+00\n",
            "Epoch 6/50\n",
            "704/704 [==============================] - 2s 2ms/step - loss: 3336316416.0000 - accuracy: 1.1111e-05 - val_loss: 3305976064.0000 - val_accuracy: 0.0000e+00\n",
            "Epoch 7/50\n",
            "704/704 [==============================] - 2s 2ms/step - loss: 3336317952.0000 - accuracy: 1.1111e-05 - val_loss: 3305976064.0000 - val_accuracy: 0.0000e+00\n",
            "Epoch 8/50\n",
            "704/704 [==============================] - 2s 2ms/step - loss: 3336316160.0000 - accuracy: 1.1111e-05 - val_loss: 3305976064.0000 - val_accuracy: 0.0000e+00\n",
            "Epoch 9/50\n",
            "704/704 [==============================] - 2s 3ms/step - loss: 3336316160.0000 - accuracy: 1.1111e-05 - val_loss: 3305976064.0000 - val_accuracy: 0.0000e+00\n",
            "Epoch 10/50\n",
            "704/704 [==============================] - 2s 2ms/step - loss: 3336317440.0000 - accuracy: 1.1111e-05 - val_loss: 3305976064.0000 - val_accuracy: 0.0000e+00\n",
            "Epoch 11/50\n",
            "704/704 [==============================] - 2s 2ms/step - loss: 3336316416.0000 - accuracy: 1.1111e-05 - val_loss: 3305976064.0000 - val_accuracy: 0.0000e+00\n",
            "Epoch 12/50\n",
            "704/704 [==============================] - 2s 2ms/step - loss: 3336316160.0000 - accuracy: 1.1111e-05 - val_loss: 3305976064.0000 - val_accuracy: 0.0000e+00\n",
            "Epoch 13/50\n",
            "704/704 [==============================] - 2s 2ms/step - loss: 3336318976.0000 - accuracy: 1.1111e-05 - val_loss: 3305976064.0000 - val_accuracy: 0.0000e+00\n",
            "Epoch 14/50\n",
            "704/704 [==============================] - 2s 2ms/step - loss: 3336316928.0000 - accuracy: 1.1111e-05 - val_loss: 3305976064.0000 - val_accuracy: 0.0000e+00\n",
            "Epoch 15/50\n",
            "704/704 [==============================] - 2s 2ms/step - loss: 3336318720.0000 - accuracy: 1.1111e-05 - val_loss: 3305976064.0000 - val_accuracy: 0.0000e+00\n",
            "Epoch 16/50\n",
            "704/704 [==============================] - 2s 2ms/step - loss: 3336317952.0000 - accuracy: 1.1111e-05 - val_loss: 3305976064.0000 - val_accuracy: 0.0000e+00\n",
            "Epoch 17/50\n",
            "704/704 [==============================] - 2s 2ms/step - loss: 3336316416.0000 - accuracy: 1.1111e-05 - val_loss: 3305976064.0000 - val_accuracy: 0.0000e+00\n",
            "Epoch 18/50\n",
            "704/704 [==============================] - 2s 2ms/step - loss: 3336319744.0000 - accuracy: 1.1111e-05 - val_loss: 3305976064.0000 - val_accuracy: 0.0000e+00\n",
            "Epoch 19/50\n",
            "704/704 [==============================] - 2s 3ms/step - loss: 3336317440.0000 - accuracy: 1.1111e-05 - val_loss: 3305976064.0000 - val_accuracy: 0.0000e+00\n",
            "Epoch 20/50\n",
            "704/704 [==============================] - 2s 2ms/step - loss: 3336317440.0000 - accuracy: 1.1111e-05 - val_loss: 3305976064.0000 - val_accuracy: 0.0000e+00\n",
            "Epoch 21/50\n",
            "704/704 [==============================] - 2s 2ms/step - loss: 3336317952.0000 - accuracy: 1.1111e-05 - val_loss: 3305976064.0000 - val_accuracy: 0.0000e+00\n",
            "Epoch 22/50\n",
            "704/704 [==============================] - 2s 3ms/step - loss: 3336318208.0000 - accuracy: 1.1111e-05 - val_loss: 3305976064.0000 - val_accuracy: 0.0000e+00\n",
            "Epoch 23/50\n",
            "704/704 [==============================] - 2s 2ms/step - loss: 3336318720.0000 - accuracy: 1.1111e-05 - val_loss: 3305976064.0000 - val_accuracy: 0.0000e+00\n",
            "Epoch 24/50\n",
            "704/704 [==============================] - 2s 3ms/step - loss: 3336318976.0000 - accuracy: 1.1111e-05 - val_loss: 3305976064.0000 - val_accuracy: 0.0000e+00\n",
            "Epoch 25/50\n",
            "704/704 [==============================] - 2s 3ms/step - loss: 3336317440.0000 - accuracy: 1.1111e-05 - val_loss: 3305976064.0000 - val_accuracy: 0.0000e+00\n",
            "Epoch 26/50\n",
            "704/704 [==============================] - 2s 3ms/step - loss: 3336317440.0000 - accuracy: 1.1111e-05 - val_loss: 3305976064.0000 - val_accuracy: 0.0000e+00\n",
            "Epoch 27/50\n",
            "704/704 [==============================] - 2s 2ms/step - loss: 3336318720.0000 - accuracy: 1.1111e-05 - val_loss: 3305976064.0000 - val_accuracy: 0.0000e+00\n",
            "Epoch 28/50\n",
            "704/704 [==============================] - 2s 2ms/step - loss: 3336317184.0000 - accuracy: 1.1111e-05 - val_loss: 3305976064.0000 - val_accuracy: 0.0000e+00\n",
            "Epoch 29/50\n",
            "704/704 [==============================] - 2s 2ms/step - loss: 3336314880.0000 - accuracy: 1.1111e-05 - val_loss: 3305976064.0000 - val_accuracy: 0.0000e+00\n",
            "Epoch 30/50\n",
            "704/704 [==============================] - 2s 2ms/step - loss: 3336317440.0000 - accuracy: 1.1111e-05 - val_loss: 3305976064.0000 - val_accuracy: 0.0000e+00\n",
            "Epoch 31/50\n",
            "704/704 [==============================] - 2s 2ms/step - loss: 3336317440.0000 - accuracy: 1.1111e-05 - val_loss: 3305976064.0000 - val_accuracy: 0.0000e+00\n",
            "Epoch 32/50\n",
            "704/704 [==============================] - 2s 2ms/step - loss: 3336317440.0000 - accuracy: 1.1111e-05 - val_loss: 3305976064.0000 - val_accuracy: 0.0000e+00\n",
            "Epoch 33/50\n",
            "704/704 [==============================] - 2s 2ms/step - loss: 3336317184.0000 - accuracy: 1.1111e-05 - val_loss: 3305976064.0000 - val_accuracy: 0.0000e+00\n",
            "Epoch 34/50\n",
            "704/704 [==============================] - 2s 2ms/step - loss: 3336317440.0000 - accuracy: 1.1111e-05 - val_loss: 3305976064.0000 - val_accuracy: 0.0000e+00\n",
            "Epoch 35/50\n",
            "704/704 [==============================] - 2s 2ms/step - loss: 3336315648.0000 - accuracy: 1.1111e-05 - val_loss: 3305976064.0000 - val_accuracy: 0.0000e+00\n",
            "Epoch 36/50\n",
            "704/704 [==============================] - 2s 2ms/step - loss: 3336318208.0000 - accuracy: 1.1111e-05 - val_loss: 3305976064.0000 - val_accuracy: 0.0000e+00\n",
            "Epoch 37/50\n",
            "704/704 [==============================] - 2s 2ms/step - loss: 3336316416.0000 - accuracy: 1.1111e-05 - val_loss: 3305976064.0000 - val_accuracy: 0.0000e+00\n",
            "Epoch 38/50\n",
            "704/704 [==============================] - 1s 2ms/step - loss: 3336318208.0000 - accuracy: 1.1111e-05 - val_loss: 3305976064.0000 - val_accuracy: 0.0000e+00\n",
            "Epoch 39/50\n",
            "704/704 [==============================] - 2s 2ms/step - loss: 3336320512.0000 - accuracy: 1.1111e-05 - val_loss: 3305976064.0000 - val_accuracy: 0.0000e+00\n",
            "Epoch 40/50\n",
            "704/704 [==============================] - 2s 2ms/step - loss: 3336317184.0000 - accuracy: 1.1111e-05 - val_loss: 3305976064.0000 - val_accuracy: 0.0000e+00\n",
            "Epoch 41/50\n",
            "704/704 [==============================] - 2s 2ms/step - loss: 3336317184.0000 - accuracy: 1.1111e-05 - val_loss: 3305976064.0000 - val_accuracy: 0.0000e+00\n",
            "Epoch 42/50\n",
            "704/704 [==============================] - 2s 2ms/step - loss: 3336316416.0000 - accuracy: 1.1111e-05 - val_loss: 3305976064.0000 - val_accuracy: 0.0000e+00\n",
            "Epoch 43/50\n",
            "704/704 [==============================] - 2s 2ms/step - loss: 3336317184.0000 - accuracy: 1.1111e-05 - val_loss: 3305976064.0000 - val_accuracy: 0.0000e+00\n",
            "Epoch 44/50\n",
            "704/704 [==============================] - 2s 2ms/step - loss: 3336315392.0000 - accuracy: 1.1111e-05 - val_loss: 3305976064.0000 - val_accuracy: 0.0000e+00\n",
            "Epoch 45/50\n",
            "704/704 [==============================] - 2s 2ms/step - loss: 3336315392.0000 - accuracy: 1.1111e-05 - val_loss: 3305976064.0000 - val_accuracy: 0.0000e+00\n",
            "Epoch 46/50\n",
            "704/704 [==============================] - 2s 2ms/step - loss: 3336318976.0000 - accuracy: 1.1111e-05 - val_loss: 3305976064.0000 - val_accuracy: 0.0000e+00\n",
            "Epoch 47/50\n",
            "704/704 [==============================] - 2s 2ms/step - loss: 3336317952.0000 - accuracy: 1.1111e-05 - val_loss: 3305976064.0000 - val_accuracy: 0.0000e+00\n",
            "Epoch 48/50\n",
            "704/704 [==============================] - 2s 2ms/step - loss: 3336318208.0000 - accuracy: 1.1111e-05 - val_loss: 3305976064.0000 - val_accuracy: 0.0000e+00\n",
            "Epoch 49/50\n",
            "704/704 [==============================] - 2s 2ms/step - loss: 3336317184.0000 - accuracy: 1.1111e-05 - val_loss: 3305976064.0000 - val_accuracy: 0.0000e+00\n",
            "Epoch 50/50\n",
            "704/704 [==============================] - 2s 2ms/step - loss: 3336317184.0000 - accuracy: 1.1111e-05 - val_loss: 3305976064.0000 - val_accuracy: 0.0000e+00\n"
          ]
        },
        {
          "output_type": "execute_result",
          "data": {
            "text/plain": [
              "<keras.callbacks.History at 0x7fc69c1e1f90>"
            ]
          },
          "metadata": {},
          "execution_count": 53
        }
      ]
    },
    {
      "cell_type": "code",
      "source": [
        "lat_dim = 100\n",
        "## Model phi\n",
        "## A feedforward neural network with one hidden layer with 100 neurons and ReLU activation function, and the output layer with lat_dim output units.\n",
        "phi_model = Sequential()\n",
        "# Input and hidden layer\n",
        "phi_model.add(Dense(100, activation='sigmoid', kernel_initializer='he_normal', input_shape=(n_features,)))\n",
        "# Output layer\n",
        "phi_model.add(Dense(lat_dim, activation='sigmoid'))\n",
        "opt = SGD(learning_rate=0.01)\n",
        "phi_model.compile(optimizer=opt, loss='mse', metrics='accuracy')\n",
        "\n",
        "phi_model2 = Sequential()\n",
        "phi_model2.add(phi_model)\n",
        "phi_model2.add(Lambda(lambda x: sum(x, axis=1,keepdims=True)))\n",
        "phi_model2.layers[0].trainable = False\n",
        "phi_model2.compile(optimizer=opt, loss='mse', metrics='accuracy')\n",
        "\n",
        "## Model rho\n",
        "## A feedforward neural network with one hidden layer with 100 neurons and ReLU activation function, and the input layer with 1 input unit.\n",
        "rho_model = Sequential()\n",
        "# Input layer where input units equal to 1 and hidden layer\n",
        "rho_model.add(phi_model2)\n",
        "rho_model.add(Dense(100, activation='sigmoid', kernel_initializer='he_normal', input_shape=(1,)))\n",
        "# Output layer\n",
        "rho_model.add(Dense(1, activation='sigmoid'))\n",
        "rho_model.compile(optimizer=opt, loss='mse', metrics='accuracy')\n",
        "\n",
        "rho_model.fit(X_tra, y_tra, epochs=50, batch_size=128,validation_data=(X_val, y_val))"
      ],
      "metadata": {
        "colab": {
          "base_uri": "https://localhost:8080/",
          "height": 380
        },
        "id": "XSIfQORegr7D",
        "outputId": "22f56220-efd2-44cb-a473-97596d8243ce"
      },
      "execution_count": 15,
      "outputs": [
        {
          "output_type": "stream",
          "name": "stdout",
          "text": [
            "Epoch 1/50\n",
            "149/704 [=====>........................] - ETA: 1s - loss: 3362196224.0000 - accuracy: 0.0000e+00"
          ]
        },
        {
          "output_type": "error",
          "ename": "KeyboardInterrupt",
          "evalue": "ignored",
          "traceback": [
            "\u001b[0;31m---------------------------------------------------------------------------\u001b[0m",
            "\u001b[0;31mKeyboardInterrupt\u001b[0m                         Traceback (most recent call last)",
            "\u001b[0;32m<ipython-input-15-d8b6574ba700>\u001b[0m in \u001b[0;36m<module>\u001b[0;34m()\u001b[0m\n\u001b[1;32m     26\u001b[0m \u001b[0mrho_model\u001b[0m\u001b[0;34m.\u001b[0m\u001b[0mcompile\u001b[0m\u001b[0;34m(\u001b[0m\u001b[0moptimizer\u001b[0m\u001b[0;34m=\u001b[0m\u001b[0mopt\u001b[0m\u001b[0;34m,\u001b[0m \u001b[0mloss\u001b[0m\u001b[0;34m=\u001b[0m\u001b[0;34m'mse'\u001b[0m\u001b[0;34m,\u001b[0m \u001b[0mmetrics\u001b[0m\u001b[0;34m=\u001b[0m\u001b[0;34m'accuracy'\u001b[0m\u001b[0;34m)\u001b[0m\u001b[0;34m\u001b[0m\u001b[0;34m\u001b[0m\u001b[0m\n\u001b[1;32m     27\u001b[0m \u001b[0;34m\u001b[0m\u001b[0m\n\u001b[0;32m---> 28\u001b[0;31m \u001b[0mrho_model\u001b[0m\u001b[0;34m.\u001b[0m\u001b[0mfit\u001b[0m\u001b[0;34m(\u001b[0m\u001b[0mX_tra\u001b[0m\u001b[0;34m,\u001b[0m \u001b[0my_tra\u001b[0m\u001b[0;34m,\u001b[0m \u001b[0mepochs\u001b[0m\u001b[0;34m=\u001b[0m\u001b[0;36m50\u001b[0m\u001b[0;34m,\u001b[0m \u001b[0mbatch_size\u001b[0m\u001b[0;34m=\u001b[0m\u001b[0;36m128\u001b[0m\u001b[0;34m,\u001b[0m\u001b[0mvalidation_data\u001b[0m\u001b[0;34m=\u001b[0m\u001b[0;34m(\u001b[0m\u001b[0mX_val\u001b[0m\u001b[0;34m,\u001b[0m \u001b[0my_val\u001b[0m\u001b[0;34m)\u001b[0m\u001b[0;34m)\u001b[0m\u001b[0;34m\u001b[0m\u001b[0;34m\u001b[0m\u001b[0m\n\u001b[0m",
            "\u001b[0;32m/usr/local/lib/python3.7/dist-packages/keras/utils/traceback_utils.py\u001b[0m in \u001b[0;36merror_handler\u001b[0;34m(*args, **kwargs)\u001b[0m\n\u001b[1;32m     62\u001b[0m     \u001b[0mfiltered_tb\u001b[0m \u001b[0;34m=\u001b[0m \u001b[0;32mNone\u001b[0m\u001b[0;34m\u001b[0m\u001b[0;34m\u001b[0m\u001b[0m\n\u001b[1;32m     63\u001b[0m     \u001b[0;32mtry\u001b[0m\u001b[0;34m:\u001b[0m\u001b[0;34m\u001b[0m\u001b[0;34m\u001b[0m\u001b[0m\n\u001b[0;32m---> 64\u001b[0;31m       \u001b[0;32mreturn\u001b[0m \u001b[0mfn\u001b[0m\u001b[0;34m(\u001b[0m\u001b[0;34m*\u001b[0m\u001b[0margs\u001b[0m\u001b[0;34m,\u001b[0m \u001b[0;34m**\u001b[0m\u001b[0mkwargs\u001b[0m\u001b[0;34m)\u001b[0m\u001b[0;34m\u001b[0m\u001b[0;34m\u001b[0m\u001b[0m\n\u001b[0m\u001b[1;32m     65\u001b[0m     \u001b[0;32mexcept\u001b[0m \u001b[0mException\u001b[0m \u001b[0;32mas\u001b[0m \u001b[0me\u001b[0m\u001b[0;34m:\u001b[0m  \u001b[0;31m# pylint: disable=broad-except\u001b[0m\u001b[0;34m\u001b[0m\u001b[0;34m\u001b[0m\u001b[0m\n\u001b[1;32m     66\u001b[0m       \u001b[0mfiltered_tb\u001b[0m \u001b[0;34m=\u001b[0m \u001b[0m_process_traceback_frames\u001b[0m\u001b[0;34m(\u001b[0m\u001b[0me\u001b[0m\u001b[0;34m.\u001b[0m\u001b[0m__traceback__\u001b[0m\u001b[0;34m)\u001b[0m\u001b[0;34m\u001b[0m\u001b[0;34m\u001b[0m\u001b[0m\n",
            "\u001b[0;32m/usr/local/lib/python3.7/dist-packages/keras/engine/training.py\u001b[0m in \u001b[0;36mfit\u001b[0;34m(self, x, y, batch_size, epochs, verbose, callbacks, validation_split, validation_data, shuffle, class_weight, sample_weight, initial_epoch, steps_per_epoch, validation_steps, validation_batch_size, validation_freq, max_queue_size, workers, use_multiprocessing)\u001b[0m\n\u001b[1;32m   1382\u001b[0m                 _r=1):\n\u001b[1;32m   1383\u001b[0m               \u001b[0mcallbacks\u001b[0m\u001b[0;34m.\u001b[0m\u001b[0mon_train_batch_begin\u001b[0m\u001b[0;34m(\u001b[0m\u001b[0mstep\u001b[0m\u001b[0;34m)\u001b[0m\u001b[0;34m\u001b[0m\u001b[0;34m\u001b[0m\u001b[0m\n\u001b[0;32m-> 1384\u001b[0;31m               \u001b[0mtmp_logs\u001b[0m \u001b[0;34m=\u001b[0m \u001b[0mself\u001b[0m\u001b[0;34m.\u001b[0m\u001b[0mtrain_function\u001b[0m\u001b[0;34m(\u001b[0m\u001b[0miterator\u001b[0m\u001b[0;34m)\u001b[0m\u001b[0;34m\u001b[0m\u001b[0;34m\u001b[0m\u001b[0m\n\u001b[0m\u001b[1;32m   1385\u001b[0m               \u001b[0;32mif\u001b[0m \u001b[0mdata_handler\u001b[0m\u001b[0;34m.\u001b[0m\u001b[0mshould_sync\u001b[0m\u001b[0;34m:\u001b[0m\u001b[0;34m\u001b[0m\u001b[0;34m\u001b[0m\u001b[0m\n\u001b[1;32m   1386\u001b[0m                 \u001b[0mcontext\u001b[0m\u001b[0;34m.\u001b[0m\u001b[0masync_wait\u001b[0m\u001b[0;34m(\u001b[0m\u001b[0;34m)\u001b[0m\u001b[0;34m\u001b[0m\u001b[0;34m\u001b[0m\u001b[0m\n",
            "\u001b[0;32m/usr/local/lib/python3.7/dist-packages/tensorflow/python/util/traceback_utils.py\u001b[0m in \u001b[0;36merror_handler\u001b[0;34m(*args, **kwargs)\u001b[0m\n\u001b[1;32m    148\u001b[0m     \u001b[0mfiltered_tb\u001b[0m \u001b[0;34m=\u001b[0m \u001b[0;32mNone\u001b[0m\u001b[0;34m\u001b[0m\u001b[0;34m\u001b[0m\u001b[0m\n\u001b[1;32m    149\u001b[0m     \u001b[0;32mtry\u001b[0m\u001b[0;34m:\u001b[0m\u001b[0;34m\u001b[0m\u001b[0;34m\u001b[0m\u001b[0m\n\u001b[0;32m--> 150\u001b[0;31m       \u001b[0;32mreturn\u001b[0m \u001b[0mfn\u001b[0m\u001b[0;34m(\u001b[0m\u001b[0;34m*\u001b[0m\u001b[0margs\u001b[0m\u001b[0;34m,\u001b[0m \u001b[0;34m**\u001b[0m\u001b[0mkwargs\u001b[0m\u001b[0;34m)\u001b[0m\u001b[0;34m\u001b[0m\u001b[0;34m\u001b[0m\u001b[0m\n\u001b[0m\u001b[1;32m    151\u001b[0m     \u001b[0;32mexcept\u001b[0m \u001b[0mException\u001b[0m \u001b[0;32mas\u001b[0m \u001b[0me\u001b[0m\u001b[0;34m:\u001b[0m\u001b[0;34m\u001b[0m\u001b[0;34m\u001b[0m\u001b[0m\n\u001b[1;32m    152\u001b[0m       \u001b[0mfiltered_tb\u001b[0m \u001b[0;34m=\u001b[0m \u001b[0m_process_traceback_frames\u001b[0m\u001b[0;34m(\u001b[0m\u001b[0me\u001b[0m\u001b[0;34m.\u001b[0m\u001b[0m__traceback__\u001b[0m\u001b[0;34m)\u001b[0m\u001b[0;34m\u001b[0m\u001b[0;34m\u001b[0m\u001b[0m\n",
            "\u001b[0;32m/usr/local/lib/python3.7/dist-packages/tensorflow/python/eager/def_function.py\u001b[0m in \u001b[0;36m__call__\u001b[0;34m(self, *args, **kwds)\u001b[0m\n\u001b[1;32m    913\u001b[0m \u001b[0;34m\u001b[0m\u001b[0m\n\u001b[1;32m    914\u001b[0m       \u001b[0;32mwith\u001b[0m \u001b[0mOptionalXlaContext\u001b[0m\u001b[0;34m(\u001b[0m\u001b[0mself\u001b[0m\u001b[0;34m.\u001b[0m\u001b[0m_jit_compile\u001b[0m\u001b[0;34m)\u001b[0m\u001b[0;34m:\u001b[0m\u001b[0;34m\u001b[0m\u001b[0;34m\u001b[0m\u001b[0m\n\u001b[0;32m--> 915\u001b[0;31m         \u001b[0mresult\u001b[0m \u001b[0;34m=\u001b[0m \u001b[0mself\u001b[0m\u001b[0;34m.\u001b[0m\u001b[0m_call\u001b[0m\u001b[0;34m(\u001b[0m\u001b[0;34m*\u001b[0m\u001b[0margs\u001b[0m\u001b[0;34m,\u001b[0m \u001b[0;34m**\u001b[0m\u001b[0mkwds\u001b[0m\u001b[0;34m)\u001b[0m\u001b[0;34m\u001b[0m\u001b[0;34m\u001b[0m\u001b[0m\n\u001b[0m\u001b[1;32m    916\u001b[0m \u001b[0;34m\u001b[0m\u001b[0m\n\u001b[1;32m    917\u001b[0m       \u001b[0mnew_tracing_count\u001b[0m \u001b[0;34m=\u001b[0m \u001b[0mself\u001b[0m\u001b[0;34m.\u001b[0m\u001b[0mexperimental_get_tracing_count\u001b[0m\u001b[0;34m(\u001b[0m\u001b[0;34m)\u001b[0m\u001b[0;34m\u001b[0m\u001b[0;34m\u001b[0m\u001b[0m\n",
            "\u001b[0;32m/usr/local/lib/python3.7/dist-packages/tensorflow/python/eager/def_function.py\u001b[0m in \u001b[0;36m_call\u001b[0;34m(self, *args, **kwds)\u001b[0m\n\u001b[1;32m    945\u001b[0m       \u001b[0;31m# In this case we have created variables on the first call, so we run the\u001b[0m\u001b[0;34m\u001b[0m\u001b[0;34m\u001b[0m\u001b[0;34m\u001b[0m\u001b[0m\n\u001b[1;32m    946\u001b[0m       \u001b[0;31m# defunned version which is guaranteed to never create variables.\u001b[0m\u001b[0;34m\u001b[0m\u001b[0;34m\u001b[0m\u001b[0;34m\u001b[0m\u001b[0m\n\u001b[0;32m--> 947\u001b[0;31m       \u001b[0;32mreturn\u001b[0m \u001b[0mself\u001b[0m\u001b[0;34m.\u001b[0m\u001b[0m_stateless_fn\u001b[0m\u001b[0;34m(\u001b[0m\u001b[0;34m*\u001b[0m\u001b[0margs\u001b[0m\u001b[0;34m,\u001b[0m \u001b[0;34m**\u001b[0m\u001b[0mkwds\u001b[0m\u001b[0;34m)\u001b[0m  \u001b[0;31m# pylint: disable=not-callable\u001b[0m\u001b[0;34m\u001b[0m\u001b[0;34m\u001b[0m\u001b[0m\n\u001b[0m\u001b[1;32m    948\u001b[0m     \u001b[0;32melif\u001b[0m \u001b[0mself\u001b[0m\u001b[0;34m.\u001b[0m\u001b[0m_stateful_fn\u001b[0m \u001b[0;32mis\u001b[0m \u001b[0;32mnot\u001b[0m \u001b[0;32mNone\u001b[0m\u001b[0;34m:\u001b[0m\u001b[0;34m\u001b[0m\u001b[0;34m\u001b[0m\u001b[0m\n\u001b[1;32m    949\u001b[0m       \u001b[0;31m# Release the lock early so that multiple threads can perform the call\u001b[0m\u001b[0;34m\u001b[0m\u001b[0;34m\u001b[0m\u001b[0;34m\u001b[0m\u001b[0m\n",
            "\u001b[0;32m/usr/local/lib/python3.7/dist-packages/tensorflow/python/eager/function.py\u001b[0m in \u001b[0;36m__call__\u001b[0;34m(self, *args, **kwargs)\u001b[0m\n\u001b[1;32m   2955\u001b[0m        filtered_flat_args) = self._maybe_define_function(args, kwargs)\n\u001b[1;32m   2956\u001b[0m     return graph_function._call_flat(\n\u001b[0;32m-> 2957\u001b[0;31m         filtered_flat_args, captured_inputs=graph_function.captured_inputs)  # pylint: disable=protected-access\n\u001b[0m\u001b[1;32m   2958\u001b[0m \u001b[0;34m\u001b[0m\u001b[0m\n\u001b[1;32m   2959\u001b[0m   \u001b[0;34m@\u001b[0m\u001b[0mproperty\u001b[0m\u001b[0;34m\u001b[0m\u001b[0;34m\u001b[0m\u001b[0m\n",
            "\u001b[0;32m/usr/local/lib/python3.7/dist-packages/tensorflow/python/eager/function.py\u001b[0m in \u001b[0;36m_call_flat\u001b[0;34m(self, args, captured_inputs, cancellation_manager)\u001b[0m\n\u001b[1;32m   1852\u001b[0m       \u001b[0;31m# No tape is watching; skip to running the function.\u001b[0m\u001b[0;34m\u001b[0m\u001b[0;34m\u001b[0m\u001b[0;34m\u001b[0m\u001b[0m\n\u001b[1;32m   1853\u001b[0m       return self._build_call_outputs(self._inference_function.call(\n\u001b[0;32m-> 1854\u001b[0;31m           ctx, args, cancellation_manager=cancellation_manager))\n\u001b[0m\u001b[1;32m   1855\u001b[0m     forward_backward = self._select_forward_and_backward_functions(\n\u001b[1;32m   1856\u001b[0m         \u001b[0margs\u001b[0m\u001b[0;34m,\u001b[0m\u001b[0;34m\u001b[0m\u001b[0;34m\u001b[0m\u001b[0m\n",
            "\u001b[0;32m/usr/local/lib/python3.7/dist-packages/tensorflow/python/eager/function.py\u001b[0m in \u001b[0;36mcall\u001b[0;34m(self, ctx, args, cancellation_manager)\u001b[0m\n\u001b[1;32m    502\u001b[0m               \u001b[0minputs\u001b[0m\u001b[0;34m=\u001b[0m\u001b[0margs\u001b[0m\u001b[0;34m,\u001b[0m\u001b[0;34m\u001b[0m\u001b[0;34m\u001b[0m\u001b[0m\n\u001b[1;32m    503\u001b[0m               \u001b[0mattrs\u001b[0m\u001b[0;34m=\u001b[0m\u001b[0mattrs\u001b[0m\u001b[0;34m,\u001b[0m\u001b[0;34m\u001b[0m\u001b[0;34m\u001b[0m\u001b[0m\n\u001b[0;32m--> 504\u001b[0;31m               ctx=ctx)\n\u001b[0m\u001b[1;32m    505\u001b[0m         \u001b[0;32melse\u001b[0m\u001b[0;34m:\u001b[0m\u001b[0;34m\u001b[0m\u001b[0;34m\u001b[0m\u001b[0m\n\u001b[1;32m    506\u001b[0m           outputs = execute.execute_with_cancellation(\n",
            "\u001b[0;32m/usr/local/lib/python3.7/dist-packages/tensorflow/python/eager/execute.py\u001b[0m in \u001b[0;36mquick_execute\u001b[0;34m(op_name, num_outputs, inputs, attrs, ctx, name)\u001b[0m\n\u001b[1;32m     53\u001b[0m     \u001b[0mctx\u001b[0m\u001b[0;34m.\u001b[0m\u001b[0mensure_initialized\u001b[0m\u001b[0;34m(\u001b[0m\u001b[0;34m)\u001b[0m\u001b[0;34m\u001b[0m\u001b[0;34m\u001b[0m\u001b[0m\n\u001b[1;32m     54\u001b[0m     tensors = pywrap_tfe.TFE_Py_Execute(ctx._handle, device_name, op_name,\n\u001b[0;32m---> 55\u001b[0;31m                                         inputs, attrs, num_outputs)\n\u001b[0m\u001b[1;32m     56\u001b[0m   \u001b[0;32mexcept\u001b[0m \u001b[0mcore\u001b[0m\u001b[0;34m.\u001b[0m\u001b[0m_NotOkStatusException\u001b[0m \u001b[0;32mas\u001b[0m \u001b[0me\u001b[0m\u001b[0;34m:\u001b[0m\u001b[0;34m\u001b[0m\u001b[0;34m\u001b[0m\u001b[0m\n\u001b[1;32m     57\u001b[0m     \u001b[0;32mif\u001b[0m \u001b[0mname\u001b[0m \u001b[0;32mis\u001b[0m \u001b[0;32mnot\u001b[0m \u001b[0;32mNone\u001b[0m\u001b[0;34m:\u001b[0m\u001b[0;34m\u001b[0m\u001b[0;34m\u001b[0m\u001b[0m\n",
            "\u001b[0;31mKeyboardInterrupt\u001b[0m: "
          ]
        }
      ]
    },
    {
      "cell_type": "markdown",
      "source": [
        "Relu activation function is faster than sigmoid."
      ],
      "metadata": {
        "id": "dOx0TwniOLWA"
      }
    },
    {
      "cell_type": "markdown",
      "source": [
        "P1.5"
      ],
      "metadata": {
        "id": "MdnO-3S1h0vK"
      }
    },
    {
      "cell_type": "code",
      "source": [
        "lat_dim = [1,2,3,4,5,6,7,8,9,10,20,30,40,50,60,70,80,90,100]\n",
        "mse = []\n",
        "for i in lat_dim:\n",
        "  lat_dim = i\n",
        "  ## Model phi\n",
        "  ## A feedforward neural network with one hidden layer with 100 neurons and ReLU activation function, and the output layer with lat_dim output units.\n",
        "  phi_model = Sequential()\n",
        "  # Input and hidden layer\n",
        "  phi_model.add(Dense(100, activation='sigmoid', kernel_initializer='he_normal', input_shape=(n_features,)))\n",
        "  # Output layer\n",
        "  phi_model.add(Dense(lat_dim, activation='sigmoid'))\n",
        "  opt = SGD(learning_rate=0.01)\n",
        "  phi_model.compile(optimizer=opt, loss='mse', metrics='accuracy')\n",
        "\n",
        "  phi_model2 = Sequential()\n",
        "  phi_model2.add(phi_model)\n",
        "  phi_model2.add(Lambda(lambda x: sum(x, axis=1,keepdims=True)))\n",
        "  phi_model2.layers[0].trainable = False\n",
        "  phi_model2.compile(optimizer=opt, loss='mse', metrics='accuracy')\n",
        "\n",
        "  ## Model rho\n",
        "  ## A feedforward neural network with one hidden layer with 100 neurons and ReLU activation function, and the input layer with 1 input unit.\n",
        "  rho_model = Sequential()\n",
        "  # Input layer where input units equal to 1 and hidden layer\n",
        "  rho_model.add(phi_model2)\n",
        "  rho_model.add(Dense(100, activation='sigmoid', kernel_initializer='he_normal', input_shape=(1,)))\n",
        "  # Output layer\n",
        "  rho_model.add(Dense(1, activation='sigmoid'))\n",
        "  rho_model.compile(optimizer=opt, loss='mse', metrics='mse')\n",
        "  rho_model.compile(optimizer=opt, loss='mse', metrics='mse')\n",
        "  history = rho_model.fit(X_tra, y_tra, epochs=5, batch_size=128,validation_data=(X_val, y_val))\n",
        "  min_mse = min(history.history['mse'])\n",
        "  mse.append(min_mse)\n"
      ],
      "metadata": {
        "colab": {
          "base_uri": "https://localhost:8080/"
        },
        "id": "YjiidR7giADI",
        "outputId": "09cc3404-f821-4ef1-f347-2c9f7a7912cf"
      },
      "execution_count": 40,
      "outputs": [
        {
          "output_type": "stream",
          "name": "stdout",
          "text": [
            "Epoch 1/5\n",
            "704/704 [==============================] - 5s 6ms/step - loss: 3336218112.0000 - mse: 3336218112.0000 - val_loss: 3305877248.0000 - val_mse: 3305877248.0000\n",
            "Epoch 2/5\n",
            "704/704 [==============================] - 3s 4ms/step - loss: 3336219392.0000 - mse: 3336219392.0000 - val_loss: 3305877248.0000 - val_mse: 3305877248.0000\n",
            "Epoch 3/5\n",
            "704/704 [==============================] - 3s 4ms/step - loss: 3336217600.0000 - mse: 3336217600.0000 - val_loss: 3305877248.0000 - val_mse: 3305877248.0000\n",
            "Epoch 4/5\n",
            "704/704 [==============================] - 3s 5ms/step - loss: 3336216064.0000 - mse: 3336216064.0000 - val_loss: 3305877248.0000 - val_mse: 3305877248.0000\n",
            "Epoch 5/5\n",
            "704/704 [==============================] - 2s 2ms/step - loss: 3336217344.0000 - mse: 3336217344.0000 - val_loss: 3305877248.0000 - val_mse: 3305877248.0000\n",
            "Epoch 1/5\n",
            "704/704 [==============================] - 2s 2ms/step - loss: 3336219136.0000 - mse: 3336219136.0000 - val_loss: 3305877248.0000 - val_mse: 3305877248.0000\n",
            "Epoch 2/5\n",
            "704/704 [==============================] - 2s 2ms/step - loss: 3336216576.0000 - mse: 3336216576.0000 - val_loss: 3305877248.0000 - val_mse: 3305877248.0000\n",
            "Epoch 3/5\n",
            "704/704 [==============================] - 1s 2ms/step - loss: 3336218368.0000 - mse: 3336218368.0000 - val_loss: 3305877248.0000 - val_mse: 3305877248.0000\n",
            "Epoch 4/5\n",
            "704/704 [==============================] - 2s 2ms/step - loss: 3336218368.0000 - mse: 3336218368.0000 - val_loss: 3305877248.0000 - val_mse: 3305877248.0000\n",
            "Epoch 5/5\n",
            "704/704 [==============================] - 2s 2ms/step - loss: 3336217344.0000 - mse: 3336217344.0000 - val_loss: 3305877248.0000 - val_mse: 3305877248.0000\n",
            "Epoch 1/5\n",
            "704/704 [==============================] - 2s 3ms/step - loss: 3336217600.0000 - mse: 3336217600.0000 - val_loss: 3305877248.0000 - val_mse: 3305877248.0000\n",
            "Epoch 2/5\n",
            "704/704 [==============================] - 1s 2ms/step - loss: 3336217600.0000 - mse: 3336217600.0000 - val_loss: 3305877248.0000 - val_mse: 3305877248.0000\n",
            "Epoch 3/5\n",
            "704/704 [==============================] - 2s 2ms/step - loss: 3336216832.0000 - mse: 3336216832.0000 - val_loss: 3305877248.0000 - val_mse: 3305877248.0000\n",
            "Epoch 4/5\n",
            "704/704 [==============================] - 2s 2ms/step - loss: 3336215296.0000 - mse: 3336215296.0000 - val_loss: 3305877248.0000 - val_mse: 3305877248.0000\n",
            "Epoch 5/5\n",
            "704/704 [==============================] - 2s 2ms/step - loss: 3336218112.0000 - mse: 3336218112.0000 - val_loss: 3305877248.0000 - val_mse: 3305877248.0000\n",
            "Epoch 1/5\n",
            "704/704 [==============================] - 2s 3ms/step - loss: 3336216576.0000 - mse: 3336216576.0000 - val_loss: 3305877248.0000 - val_mse: 3305877248.0000\n",
            "Epoch 2/5\n",
            "704/704 [==============================] - 2s 2ms/step - loss: 3336218368.0000 - mse: 3336218368.0000 - val_loss: 3305877248.0000 - val_mse: 3305877248.0000\n",
            "Epoch 3/5\n",
            "704/704 [==============================] - 2s 2ms/step - loss: 3336217344.0000 - mse: 3336217344.0000 - val_loss: 3305877248.0000 - val_mse: 3305877248.0000\n",
            "Epoch 4/5\n",
            "704/704 [==============================] - 2s 2ms/step - loss: 3336219392.0000 - mse: 3336219392.0000 - val_loss: 3305877248.0000 - val_mse: 3305877248.0000\n",
            "Epoch 5/5\n",
            "704/704 [==============================] - 2s 2ms/step - loss: 3336219136.0000 - mse: 3336219136.0000 - val_loss: 3305877248.0000 - val_mse: 3305877248.0000\n",
            "Epoch 1/5\n",
            "704/704 [==============================] - 2s 2ms/step - loss: 3336214528.0000 - mse: 3336214528.0000 - val_loss: 3305877248.0000 - val_mse: 3305877248.0000\n",
            "Epoch 2/5\n",
            "704/704 [==============================] - 1s 2ms/step - loss: 3336218112.0000 - mse: 3336218112.0000 - val_loss: 3305877248.0000 - val_mse: 3305877248.0000\n",
            "Epoch 3/5\n",
            "704/704 [==============================] - 1s 2ms/step - loss: 3336215296.0000 - mse: 3336215296.0000 - val_loss: 3305877248.0000 - val_mse: 3305877248.0000\n",
            "Epoch 4/5\n",
            "704/704 [==============================] - 2s 2ms/step - loss: 3336216064.0000 - mse: 3336216064.0000 - val_loss: 3305877248.0000 - val_mse: 3305877248.0000\n",
            "Epoch 5/5\n",
            "704/704 [==============================] - 2s 2ms/step - loss: 3336216576.0000 - mse: 3336216576.0000 - val_loss: 3305877248.0000 - val_mse: 3305877248.0000\n",
            "Epoch 1/5\n",
            "704/704 [==============================] - 2s 3ms/step - loss: 3336218368.0000 - mse: 3336218368.0000 - val_loss: 3305877248.0000 - val_mse: 3305877248.0000\n",
            "Epoch 2/5\n",
            "704/704 [==============================] - 2s 2ms/step - loss: 3336219136.0000 - mse: 3336219136.0000 - val_loss: 3305877248.0000 - val_mse: 3305877248.0000\n",
            "Epoch 3/5\n",
            "704/704 [==============================] - 2s 2ms/step - loss: 3336216832.0000 - mse: 3336216832.0000 - val_loss: 3305877248.0000 - val_mse: 3305877248.0000\n",
            "Epoch 4/5\n",
            "704/704 [==============================] - 2s 2ms/step - loss: 3336214272.0000 - mse: 3336214272.0000 - val_loss: 3305877248.0000 - val_mse: 3305877248.0000\n",
            "Epoch 5/5\n",
            "704/704 [==============================] - 2s 2ms/step - loss: 3336217344.0000 - mse: 3336217344.0000 - val_loss: 3305877248.0000 - val_mse: 3305877248.0000\n",
            "Epoch 1/5\n",
            "704/704 [==============================] - 2s 2ms/step - loss: 3336218112.0000 - mse: 3336218112.0000 - val_loss: 3305877248.0000 - val_mse: 3305877248.0000\n",
            "Epoch 2/5\n",
            "704/704 [==============================] - 2s 2ms/step - loss: 3336218368.0000 - mse: 3336218368.0000 - val_loss: 3305877248.0000 - val_mse: 3305877248.0000\n",
            "Epoch 3/5\n",
            "704/704 [==============================] - 1s 2ms/step - loss: 3336216064.0000 - mse: 3336216064.0000 - val_loss: 3305877248.0000 - val_mse: 3305877248.0000\n",
            "Epoch 4/5\n",
            "704/704 [==============================] - 2s 2ms/step - loss: 3336215040.0000 - mse: 3336215040.0000 - val_loss: 3305877248.0000 - val_mse: 3305877248.0000\n",
            "Epoch 5/5\n",
            "704/704 [==============================] - 2s 2ms/step - loss: 3336219136.0000 - mse: 3336219136.0000 - val_loss: 3305877248.0000 - val_mse: 3305877248.0000\n",
            "Epoch 1/5\n",
            "704/704 [==============================] - 2s 3ms/step - loss: 3336218368.0000 - mse: 3336218368.0000 - val_loss: 3305877248.0000 - val_mse: 3305877248.0000\n",
            "Epoch 2/5\n",
            "704/704 [==============================] - 2s 2ms/step - loss: 3336216576.0000 - mse: 3336216576.0000 - val_loss: 3305877248.0000 - val_mse: 3305877248.0000\n",
            "Epoch 3/5\n",
            "704/704 [==============================] - 1s 2ms/step - loss: 3336218368.0000 - mse: 3336218368.0000 - val_loss: 3305877248.0000 - val_mse: 3305877248.0000\n",
            "Epoch 4/5\n",
            "704/704 [==============================] - 1s 2ms/step - loss: 3336216064.0000 - mse: 3336216064.0000 - val_loss: 3305877248.0000 - val_mse: 3305877248.0000\n",
            "Epoch 5/5\n",
            "704/704 [==============================] - 2s 2ms/step - loss: 3336219136.0000 - mse: 3336219136.0000 - val_loss: 3305877248.0000 - val_mse: 3305877248.0000\n",
            "Epoch 1/5\n",
            "704/704 [==============================] - 2s 2ms/step - loss: 3336218368.0000 - mse: 3336218368.0000 - val_loss: 3305877248.0000 - val_mse: 3305877248.0000\n",
            "Epoch 2/5\n",
            "704/704 [==============================] - 2s 2ms/step - loss: 3336219392.0000 - mse: 3336219392.0000 - val_loss: 3305877248.0000 - val_mse: 3305877248.0000\n",
            "Epoch 3/5\n",
            "704/704 [==============================] - 2s 2ms/step - loss: 3336216576.0000 - mse: 3336216576.0000 - val_loss: 3305877248.0000 - val_mse: 3305877248.0000\n",
            "Epoch 4/5\n",
            "704/704 [==============================] - 2s 2ms/step - loss: 3336217344.0000 - mse: 3336217344.0000 - val_loss: 3305877248.0000 - val_mse: 3305877248.0000\n",
            "Epoch 5/5\n",
            "704/704 [==============================] - 2s 2ms/step - loss: 3336220672.0000 - mse: 3336220672.0000 - val_loss: 3305877248.0000 - val_mse: 3305877248.0000\n",
            "Epoch 1/5\n",
            "704/704 [==============================] - 2s 3ms/step - loss: 3336216576.0000 - mse: 3336216576.0000 - val_loss: 3305877248.0000 - val_mse: 3305877248.0000\n",
            "Epoch 2/5\n",
            "704/704 [==============================] - 2s 2ms/step - loss: 3336216064.0000 - mse: 3336216064.0000 - val_loss: 3305877248.0000 - val_mse: 3305877248.0000\n",
            "Epoch 3/5\n",
            "704/704 [==============================] - 2s 2ms/step - loss: 3336215808.0000 - mse: 3336215808.0000 - val_loss: 3305877248.0000 - val_mse: 3305877248.0000\n",
            "Epoch 4/5\n",
            "704/704 [==============================] - 2s 2ms/step - loss: 3336217344.0000 - mse: 3336217344.0000 - val_loss: 3305877248.0000 - val_mse: 3305877248.0000\n",
            "Epoch 5/5\n",
            "704/704 [==============================] - 2s 2ms/step - loss: 3336216832.0000 - mse: 3336216832.0000 - val_loss: 3305877248.0000 - val_mse: 3305877248.0000\n",
            "Epoch 1/5\n",
            "704/704 [==============================] - 2s 2ms/step - loss: 3336217600.0000 - mse: 3336217600.0000 - val_loss: 3305877248.0000 - val_mse: 3305877248.0000\n",
            "Epoch 2/5\n",
            "704/704 [==============================] - 2s 2ms/step - loss: 3336217344.0000 - mse: 3336217344.0000 - val_loss: 3305877248.0000 - val_mse: 3305877248.0000\n",
            "Epoch 3/5\n",
            "704/704 [==============================] - 2s 2ms/step - loss: 3336217344.0000 - mse: 3336217344.0000 - val_loss: 3305877248.0000 - val_mse: 3305877248.0000\n",
            "Epoch 4/5\n",
            "704/704 [==============================] - 2s 2ms/step - loss: 3336218112.0000 - mse: 3336218112.0000 - val_loss: 3305877248.0000 - val_mse: 3305877248.0000\n",
            "Epoch 5/5\n",
            "704/704 [==============================] - 2s 2ms/step - loss: 3336216064.0000 - mse: 3336216064.0000 - val_loss: 3305877248.0000 - val_mse: 3305877248.0000\n",
            "Epoch 1/5\n",
            "704/704 [==============================] - 3s 2ms/step - loss: 3336218112.0000 - mse: 3336218112.0000 - val_loss: 3305877248.0000 - val_mse: 3305877248.0000\n",
            "Epoch 2/5\n",
            "704/704 [==============================] - 2s 3ms/step - loss: 3336215296.0000 - mse: 3336215296.0000 - val_loss: 3305877248.0000 - val_mse: 3305877248.0000\n",
            "Epoch 3/5\n",
            "704/704 [==============================] - 2s 2ms/step - loss: 3336216832.0000 - mse: 3336216832.0000 - val_loss: 3305877248.0000 - val_mse: 3305877248.0000\n",
            "Epoch 4/5\n",
            "704/704 [==============================] - 2s 2ms/step - loss: 3336216832.0000 - mse: 3336216832.0000 - val_loss: 3305877248.0000 - val_mse: 3305877248.0000\n",
            "Epoch 5/5\n",
            "704/704 [==============================] - 2s 2ms/step - loss: 3336217600.0000 - mse: 3336217600.0000 - val_loss: 3305877248.0000 - val_mse: 3305877248.0000\n",
            "Epoch 1/5\n",
            "704/704 [==============================] - 3s 4ms/step - loss: 3336215808.0000 - mse: 3336215808.0000 - val_loss: 3305877248.0000 - val_mse: 3305877248.0000\n",
            "Epoch 2/5\n",
            "704/704 [==============================] - 1s 2ms/step - loss: 3336215808.0000 - mse: 3336215808.0000 - val_loss: 3305877248.0000 - val_mse: 3305877248.0000\n",
            "Epoch 3/5\n",
            "704/704 [==============================] - 2s 2ms/step - loss: 3336218112.0000 - mse: 3336218112.0000 - val_loss: 3305877248.0000 - val_mse: 3305877248.0000\n",
            "Epoch 4/5\n",
            "704/704 [==============================] - 2s 2ms/step - loss: 3336215808.0000 - mse: 3336215808.0000 - val_loss: 3305877248.0000 - val_mse: 3305877248.0000\n",
            "Epoch 5/5\n",
            "704/704 [==============================] - 2s 2ms/step - loss: 3336215808.0000 - mse: 3336215808.0000 - val_loss: 3305877248.0000 - val_mse: 3305877248.0000\n",
            "Epoch 1/5\n",
            "704/704 [==============================] - 2s 3ms/step - loss: 3336217600.0000 - mse: 3336217600.0000 - val_loss: 3305877248.0000 - val_mse: 3305877248.0000\n",
            "Epoch 2/5\n",
            "704/704 [==============================] - 2s 2ms/step - loss: 3336215040.0000 - mse: 3336215040.0000 - val_loss: 3305877248.0000 - val_mse: 3305877248.0000\n",
            "Epoch 3/5\n",
            "704/704 [==============================] - 2s 2ms/step - loss: 3336217600.0000 - mse: 3336217600.0000 - val_loss: 3305877248.0000 - val_mse: 3305877248.0000\n",
            "Epoch 4/5\n",
            "704/704 [==============================] - 2s 2ms/step - loss: 3336218368.0000 - mse: 3336218368.0000 - val_loss: 3305877248.0000 - val_mse: 3305877248.0000\n",
            "Epoch 5/5\n",
            "704/704 [==============================] - 2s 2ms/step - loss: 3336215040.0000 - mse: 3336215040.0000 - val_loss: 3305877248.0000 - val_mse: 3305877248.0000\n",
            "Epoch 1/5\n",
            "704/704 [==============================] - 2s 3ms/step - loss: 3336217344.0000 - mse: 3336217344.0000 - val_loss: 3305877248.0000 - val_mse: 3305877248.0000\n",
            "Epoch 2/5\n",
            "704/704 [==============================] - 2s 2ms/step - loss: 3336218368.0000 - mse: 3336218368.0000 - val_loss: 3305877248.0000 - val_mse: 3305877248.0000\n",
            "Epoch 3/5\n",
            "704/704 [==============================] - 2s 2ms/step - loss: 3336217600.0000 - mse: 3336217600.0000 - val_loss: 3305877248.0000 - val_mse: 3305877248.0000\n",
            "Epoch 4/5\n",
            "704/704 [==============================] - 2s 2ms/step - loss: 3336215808.0000 - mse: 3336215808.0000 - val_loss: 3305877248.0000 - val_mse: 3305877248.0000\n",
            "Epoch 5/5\n",
            "704/704 [==============================] - 2s 2ms/step - loss: 3336215808.0000 - mse: 3336215808.0000 - val_loss: 3305877248.0000 - val_mse: 3305877248.0000\n",
            "Epoch 1/5\n",
            "704/704 [==============================] - 2s 3ms/step - loss: 3336216832.0000 - mse: 3336216832.0000 - val_loss: 3305877248.0000 - val_mse: 3305877248.0000\n",
            "Epoch 2/5\n",
            "704/704 [==============================] - 2s 3ms/step - loss: 3336218368.0000 - mse: 3336218368.0000 - val_loss: 3305877248.0000 - val_mse: 3305877248.0000\n",
            "Epoch 3/5\n",
            "704/704 [==============================] - 2s 3ms/step - loss: 3336215808.0000 - mse: 3336215808.0000 - val_loss: 3305877248.0000 - val_mse: 3305877248.0000\n",
            "Epoch 4/5\n",
            "704/704 [==============================] - 2s 2ms/step - loss: 3336218624.0000 - mse: 3336218624.0000 - val_loss: 3305877248.0000 - val_mse: 3305877248.0000\n",
            "Epoch 5/5\n",
            "704/704 [==============================] - 2s 3ms/step - loss: 3336216832.0000 - mse: 3336216832.0000 - val_loss: 3305877248.0000 - val_mse: 3305877248.0000\n",
            "Epoch 1/5\n",
            "704/704 [==============================] - 2s 3ms/step - loss: 3336218112.0000 - mse: 3336218112.0000 - val_loss: 3305877248.0000 - val_mse: 3305877248.0000\n",
            "Epoch 2/5\n",
            "704/704 [==============================] - 2s 2ms/step - loss: 3336218624.0000 - mse: 3336218624.0000 - val_loss: 3305877248.0000 - val_mse: 3305877248.0000\n",
            "Epoch 3/5\n",
            "704/704 [==============================] - 2s 2ms/step - loss: 3336216832.0000 - mse: 3336216832.0000 - val_loss: 3305877248.0000 - val_mse: 3305877248.0000\n",
            "Epoch 4/5\n",
            "704/704 [==============================] - 2s 2ms/step - loss: 3336219392.0000 - mse: 3336219392.0000 - val_loss: 3305877248.0000 - val_mse: 3305877248.0000\n",
            "Epoch 5/5\n",
            "704/704 [==============================] - 2s 2ms/step - loss: 3336215296.0000 - mse: 3336215296.0000 - val_loss: 3305877248.0000 - val_mse: 3305877248.0000\n",
            "Epoch 1/5\n",
            "704/704 [==============================] - 2s 3ms/step - loss: 3336218112.0000 - mse: 3336218112.0000 - val_loss: 3305877248.0000 - val_mse: 3305877248.0000\n",
            "Epoch 2/5\n",
            "704/704 [==============================] - 2s 2ms/step - loss: 3336217344.0000 - mse: 3336217344.0000 - val_loss: 3305877248.0000 - val_mse: 3305877248.0000\n",
            "Epoch 3/5\n",
            "704/704 [==============================] - 2s 2ms/step - loss: 3336217344.0000 - mse: 3336217344.0000 - val_loss: 3305877248.0000 - val_mse: 3305877248.0000\n",
            "Epoch 4/5\n",
            "704/704 [==============================] - 2s 2ms/step - loss: 3336218624.0000 - mse: 3336218624.0000 - val_loss: 3305877248.0000 - val_mse: 3305877248.0000\n",
            "Epoch 5/5\n",
            "704/704 [==============================] - 2s 2ms/step - loss: 3336218112.0000 - mse: 3336218112.0000 - val_loss: 3305877248.0000 - val_mse: 3305877248.0000\n",
            "Epoch 1/5\n",
            "704/704 [==============================] - 2s 3ms/step - loss: 3336216576.0000 - mse: 3336216576.0000 - val_loss: 3305877248.0000 - val_mse: 3305877248.0000\n",
            "Epoch 2/5\n",
            "704/704 [==============================] - 2s 2ms/step - loss: 3336218624.0000 - mse: 3336218624.0000 - val_loss: 3305877248.0000 - val_mse: 3305877248.0000\n",
            "Epoch 3/5\n",
            "704/704 [==============================] - 2s 2ms/step - loss: 3336218112.0000 - mse: 3336218112.0000 - val_loss: 3305877248.0000 - val_mse: 3305877248.0000\n",
            "Epoch 4/5\n",
            "704/704 [==============================] - 2s 2ms/step - loss: 3336217600.0000 - mse: 3336217600.0000 - val_loss: 3305877248.0000 - val_mse: 3305877248.0000\n",
            "Epoch 5/5\n",
            "704/704 [==============================] - 2s 3ms/step - loss: 3336218368.0000 - mse: 3336218368.0000 - val_loss: 3305877248.0000 - val_mse: 3305877248.0000\n"
          ]
        }
      ]
    },
    {
      "cell_type": "code",
      "source": [
        "lat_dim = [1,2,3,4,5,6,7,8,9,10,20,30,40,50,60,70,80,90,100]\n",
        "plt.plot(lat_dim,mse)"
      ],
      "metadata": {
        "colab": {
          "base_uri": "https://localhost:8080/",
          "height": 293
        },
        "id": "r4FhVbYvIKZG",
        "outputId": "a1ea3af2-5fbf-4a00-e631-a6bc7a944efe"
      },
      "execution_count": 41,
      "outputs": [
        {
          "output_type": "execute_result",
          "data": {
            "text/plain": [
              "[<matplotlib.lines.Line2D at 0x7fc690925e10>]"
            ]
          },
          "metadata": {},
          "execution_count": 41
        },
        {
          "output_type": "display_data",
          "data": {
            "image/png": "[encoded data removed]",
            "text/plain": [
              "<Figure size 432x288 with 1 Axes>"
            ]
          },
          "metadata": {
            "needs_background": "light"
          }
        }
      ]
    },
    {
      "cell_type": "markdown",
      "source": [
        "The MSE varies and reaches its peak when lat_dim is 90."
      ],
      "metadata": {
        "id": "89eaN4irQY_w"
      }
    },
    {
      "cell_type": "markdown",
      "source": [
        "2"
      ],
      "metadata": {
        "id": "0vEKRZN_7DRv"
      }
    },
    {
      "cell_type": "markdown",
      "source": [
        "data processing "
      ],
      "metadata": {
        "id": "if7Xb32b7D-1"
      }
    },
    {
      "cell_type": "code",
      "source": [
        "# load the dataset\n",
        "x2train_path = '/content/xtrain-2.csv'\n",
        "x2train = read_csv(x2train_path, header=None)\n",
        "y2train_path = '/content/ytrain-2.csv'\n",
        "y2train = read_csv(y2train_path, header=None)\n",
        "# split the dataset into input features (X) and class labels/targets (y)\n",
        "X2_train, y2_train = x2train.values[1:,1:], y2train.values[1:,1:]\n",
        "# ensure all data are floating point values\n",
        "X2_train = X2_train.astype('float32')\n",
        "y2_train = y2_train.astype('float32')\n",
        "print(X2_train.shape, y2_train.shape)\n",
        "\n",
        "x2test_path = '/content/xtest-2.csv'\n",
        "x2test = read_csv(x2test_path, header=None)\n",
        "y2test_path = '/content/ytest-2.csv'\n",
        "y2test = read_csv(y2test_path, header=None)\n",
        "# split the dataset into input features (X) and class labels/targets (y)\n",
        "X2_test, y2_test = x2test.values[1:,1:], y2test.values[1:,1:]\n",
        "# ensure all data are floating point values\n",
        "X2_test = X2_test.astype('float32')\n",
        "y2_test = y2_test.astype('float32')\n",
        "print(X2_test.shape, y2_test.shape)\n",
        "\n",
        "# split into training (90%) and validation (10%) samples\n",
        "X2_tra, X2_val, y2_tra, y2_val = x2train.values[1:180001,1:],x2train.values[180001:,1:],y2train.values[1:180001,1:],y2train.values[180001:,1:]\n",
        "print(X2_tra.shape, X2_val.shape, y2_tra.shape, y2_val.shape)\n"
      ],
      "metadata": {
        "colab": {
          "base_uri": "https://localhost:8080/"
        },
        "id": "v99MDPbN7HZD",
        "outputId": "51b0a5e9-ba6d-44b6-f8e7-ff2e4a54c2de"
      },
      "execution_count": 19,
      "outputs": [
        {
          "output_type": "stream",
          "name": "stdout",
          "text": [
            "(200000, 15) (200000, 5)\n",
            "(200000, 15) (200000, 5)\n",
            "(180000, 15) (20000, 15) (180000, 5) (20000, 5)\n"
          ]
        }
      ]
    },
    {
      "cell_type": "markdown",
      "source": [
        "Define affine transformation"
      ],
      "metadata": {
        "id": "aImRaXoxBfND"
      }
    },
    {
      "cell_type": "code",
      "source": [
        "def fL_1(X,A_l,B_l,c_l):\n",
        "  m = len(X)\n",
        "  F = np.matmul(X,A_l) + 1/m * np.matmul(np.matmul(np.ones((m,m)),X),B_l) + np.matmul(np.ones((m,1)),c_l.transpose())\n",
        "  return F\n"
      ],
      "metadata": {
        "id": "JZbfWBP-BeoS"
      },
      "execution_count": 25,
      "outputs": []
    },
    {
      "cell_type": "code",
      "source": [
        ""
      ],
      "metadata": {
        "id": "QZlfg5fWGjYc"
      },
      "execution_count": null,
      "outputs": []
    }
  ]
}